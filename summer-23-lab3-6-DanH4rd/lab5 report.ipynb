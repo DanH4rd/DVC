{
 "cells": [
  {
   "attachments": {},
   "cell_type": "markdown",
   "metadata": {},
   "source": [
    "Raport korzystania z danych\n",
    "\n",
    "| Method      | k5-val-score | Used data |\n",
    "| ----------- | ----------- | ----------- |\n",
    "| Dummy      | 0.6112 | nobow |\n",
    "| Dummy      | 0.6112 | bow |\n",
    "| Dummy      | 0.6112 | all |\n",
    "| SVC   | 0.6303 | nobow |\n",
    "| SVC   | 0.6725 | bow |\n",
    "| SVC   | 0.6759 | all |\n",
    "| Random forest   | 0.6112 | nobow |\n",
    "| Random forest   | 0.6112 | bow |\n",
    "| Random forest   | 0.6112 | all |"
   ]
  },
  {
   "attachments": {},
   "cell_type": "markdown",
   "metadata": {},
   "source": [
    "Rożna liczba wybranych cech (select)\n",
    "\n",
    "| Method      | 10 | 20 | 30 | 40 | 50 | 60 | 70 | 80 | 90 | 100 |\n",
    "| ----------- | --- | --- | --- | --- | --- | --- | --- | --- | --- | --- |\n",
    "| SVC   | 0.6496 | 0.6545 | 0.6627 | 0.6645 |  0.6690 | 0.6701 | 0.6688 | 0.6724 | 0.6727 | 0.6759 |\n",
    "| Random forest   | 0.7000 | 0.7254 | 0.7225 | 0.7268 | 0.7260 | 0.7289 | 0.7307 | 0.7253 | 0.7285 | 0.7319 |"
   ]
  },
  {
   "attachments": {},
   "cell_type": "markdown",
   "metadata": {},
   "source": [
    "Rożna liczba wybranych cech (reduce)\n",
    "\n",
    "| Method      | 10 | 20 | 30 | 40 | 50 | 60 | 70 | 80 | 90 | 100 |\n",
    "| ----------- | --- | --- | --- | --- | --- | --- | --- | --- | --- | --- |\n",
    "| SVC   | 0.6420 | 0.6489 | 0.6536 | 0.6570 | 0.6614 | 0.6662 | 0.6666 | 0.6684 | 0.6685 | 0.6679 |\n",
    "| Random forest   | 0.7028 | 0.7117 | 0.7134 | 0.7116 | 0.7173 | 0.7116 | 0.7102 | 0.7129 | 0.7132 | 0.7105 |"
   ]
  },
  {
   "attachments": {},
   "cell_type": "markdown",
   "metadata": {},
   "source": [
    "Raport najlepszych wyników\n",
    "\n",
    "| Method      | Best k5-val-score | Used data | Feature selection | Feature num (in feature selection) |\n",
    "| ----------- | ----------- | ----------- | ----------- | ----------- |\n",
    "| Dummy      | 0.6112 | w/e | w/e | w/e |\n",
    "| SVC   | 0.6759 | all | select/none | 100       |\n",
    "| Random forest   | 0.7319        | all        | select        | 100       |"
   ]
  },
  {
   "attachments": {},
   "cell_type": "markdown",
   "metadata": {},
   "source": [
    "Podczas analizy (EDA) myślałem, że dane nie tekstowe nie niosą dużo wartości w analizie sentymentu. Na praktyce się okazało że wykożystanie całych danych, a nie tylko danych tekstowych, daję troche lepszy rezultat. Możliwie to jest powiązane z tym, że dane nie tekstowe dają kontekst danym tekstowym, co dodaje precyzji w rozumieniu tekstu przez komputer."
   ]
  }
 ],
 "metadata": {
  "language_info": {
   "name": "python"
  },
  "orig_nbformat": 4
 },
 "nbformat": 4,
 "nbformat_minor": 2
}
